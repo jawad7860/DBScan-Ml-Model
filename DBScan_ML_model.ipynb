{
  "nbformat": 4,
  "nbformat_minor": 0,
  "metadata": {
    "colab": {
      "provenance": []
    },
    "kernelspec": {
      "name": "python3",
      "display_name": "Python 3"
    },
    "language_info": {
      "name": "python"
    }
  },
  "cells": [
    {
      "cell_type": "code",
      "metadata": {
        "id": "P39qwsE0eIhK"
      },
      "source": [
        "import numpy as np\n",
        "import math\n",
        "\n",
        "import random\n",
        "\n",
        "\n",
        "UNCLASSIFIED = False\n",
        "NOISE = None"
      ],
      "execution_count": null,
      "outputs": []
    },
    {
      "cell_type": "code",
      "metadata": {
        "id": "-doYP5HCeLtS"
      },
      "source": [
        "def _dist(p,q):\n",
        "    return math.sqrt(np.power(p-q,2).sum())"
      ],
      "execution_count": null,
      "outputs": []
    },
    {
      "cell_type": "code",
      "metadata": {
        "id": "gWkVI0sjeRfx"
      },
      "source": [
        "data = np.random.randint(low=0, high=6, size=(2,20))\n",
        "#  data = np.matrix('1 1.2 0.8 3.7 3.9 3.6 10; 1.1 0.8 1 4 3.9 4.1 10')"
      ],
      "execution_count": null,
      "outputs": []
    },
    {
      "cell_type": "code",
      "metadata": {
        "colab": {
          "base_uri": "https://localhost:8080/"
        },
        "id": "your8mfCeUwB",
        "outputId": "b945dcf4-a73d-4938-960e-4ce28078ce3f"
      },
      "source": [
        "data"
      ],
      "execution_count": null,
      "outputs": [
        {
          "output_type": "execute_result",
          "data": {
            "text/plain": [
              "array([[0, 2, 5, 1, 0, 5, 0, 1, 0, 3, 3, 0, 1, 1, 3, 0, 5, 3, 1, 1],\n",
              "       [0, 1, 2, 0, 3, 3, 2, 0, 5, 3, 3, 3, 0, 3, 4, 0, 3, 3, 4, 5]])"
            ]
          },
          "metadata": {},
          "execution_count": 4
        }
      ]
    },
    {
      "cell_type": "code",
      "metadata": {
        "colab": {
          "base_uri": "https://localhost:8080/"
        },
        "id": "iBp2pMZaeWzx",
        "outputId": "8fba3595-9729-4e9d-f946-4ba9f0222cae"
      },
      "source": [
        "# accessing single data point\n",
        "data[:,0]"
      ],
      "execution_count": null,
      "outputs": [
        {
          "output_type": "execute_result",
          "data": {
            "text/plain": [
              "array([0, 0])"
            ]
          },
          "metadata": {},
          "execution_count": 5
        }
      ]
    },
    {
      "cell_type": "code",
      "source": [],
      "metadata": {
        "id": "pSrlCxu8XSM-"
      },
      "execution_count": null,
      "outputs": []
    },
    {
      "cell_type": "code",
      "metadata": {
        "colab": {
          "base_uri": "https://localhost:8080/"
        },
        "id": "Fp2M9VjHxdr8",
        "outputId": "302ebbe6-ec78-4b34-9c1e-bf7b9fc1e136"
      },
      "source": [
        "np.zeros((20),dtype=bool)"
      ],
      "execution_count": null,
      "outputs": [
        {
          "output_type": "execute_result",
          "data": {
            "text/plain": [
              "array([False, False, False, False, False, False, False, False, False,\n",
              "       False, False, False, False, False, False, False, False, False,\n",
              "       False, False])"
            ]
          },
          "metadata": {},
          "execution_count": 31
        }
      ]
    },
    {
      "cell_type": "code",
      "metadata": {
        "colab": {
          "base_uri": "https://localhost:8080/"
        },
        "id": "c0zpmUi-eXcR",
        "outputId": "a99e4137-9bef-4365-a25f-e130a3465116"
      },
      "source": [
        "def core_point(distances,cluster,neighbours,core,id,eps,min_points,i,classify):\n",
        "    count = 0\n",
        "    for z in range(0,len(distances)):\n",
        "\n",
        "      if distances[z]< eps:\n",
        "\n",
        "          count=count+1\n",
        "\n",
        "          if z+1 not in neighbours:\n",
        "            neighbours.append(z+1)\n",
        "\n",
        "\n",
        "\n",
        "    if count >= min_points:\n",
        "\n",
        "      core.append(i)\n",
        "      \n",
        "      if id not in cluster.keys() and classify[i]==False:\n",
        "\n",
        "        cluster[id]=[i]\n",
        "        classify[i]=True\n",
        "\n",
        "      elif classify[i]==False:\n",
        "        classify[i]=True\n",
        "        cluster[id].append(i)\n",
        "\n",
        "\n",
        "\n",
        "\n",
        "\n",
        "    \n",
        "def dbscan(data, eps, min_points):\n",
        "    # Data is the 2D array as shown above eps =0.5 min_points=2\n",
        "    # initiliaze the cluster id = 1\n",
        "    # Define a boolean array named classification = size of the data i.e 20\n",
        "    #for point in data:\n",
        "    #  if point is unclassified:\n",
        "    #    find whether the point is a core point,border point or noise\n",
        "    #    if point is noise set hte classification Array value=NOISE\n",
        "\n",
        "  core=[]\n",
        "\n",
        "  X= data[0]\n",
        "  Y= data[1]\n",
        "\n",
        "  cluster={}\n",
        "\n",
        "  id=1\n",
        "\n",
        "  classify=np.zeros((20),dtype=bool)\n",
        "\n",
        "  for i in range(0,len(X)):\n",
        "\n",
        "\n",
        "\n",
        "\n",
        "        point= np.array([X[i],Y[i]])\n",
        "\n",
        "        #classify[i]=True\n",
        "\n",
        "      #print(point)\n",
        "\n",
        "        distances = []\n",
        "        for j in range(i+1,len(X)):\n",
        "            \n",
        "            point2 = np.array([X[j],Y[j]])\n",
        "            \n",
        "            distances.append(_dist(point,point2) )\n",
        "            #print(data[i][i])\n",
        "\n",
        "        \n",
        "        \n",
        "\n",
        "        neighbours=[]\n",
        "\n",
        "        core_point(distances,cluster,neighbours,core,id,eps,min_points,i,classify)    \n",
        "\n",
        "        for k in neighbours:\n",
        "          \n",
        "          \n",
        "\n",
        "          p1=data[:,k]\n",
        "          d=[]\n",
        "          for z in range(0,20):\n",
        "\n",
        "                  if z!= k:\n",
        "\n",
        "                    p2=data[:,z]\n",
        "\n",
        "                    d.append(_dist(p1,p2))\n",
        "\n",
        "          count = 0\n",
        "\n",
        "          for z in range(0,len(d)):\n",
        "\n",
        "            if d[z]< eps:\n",
        "\n",
        "                count=count+1\n",
        "\n",
        "                if z+1 not in neighbours:\n",
        "                \n",
        "                      neighbours.append(z+1)\n",
        "\n",
        "\n",
        "          if count >= min_points:\n",
        "\n",
        "            core.append(k)\n",
        "            \n",
        "          if id not in cluster.keys() and classify[k]== False:\n",
        "\n",
        "              cluster[id]=[k]\n",
        "              classify[k]=True\n",
        "\n",
        "          elif classify[k]== False:\n",
        "              classify[k]=True\n",
        "              cluster[id].append(k)\n",
        "\n",
        "        id=id+1\n",
        "\n",
        "\n",
        "      #core_point(distances,cluster,neighbours,core,id,eps,min_points,i)   \n",
        "\n",
        "      \n",
        "\n",
        "\n",
        "\n",
        "\n",
        "  print(cluster)\n",
        "  \n",
        "\n",
        "dbscan(data,0.5,2)\n",
        "\n",
        "\n"
      ],
      "execution_count": null,
      "outputs": [
        {
          "output_type": "stream",
          "name": "stdout",
          "text": [
            "{1: [15, 1], 4: [3, 4, 9, 11, 10, 17, 5, 16, 6], 5: [7, 12, 8]}\n"
          ]
        }
      ]
    },
    {
      "cell_type": "code",
      "source": [
        "from sklearn.datasets import make_blobs\n",
        "import matplotlib.pyplot as plt\n",
        "import pandas as pd\n",
        "import numpy as np\n",
        "import random\n",
        "\n",
        "centers = [(0, 4), (5, 5) , (8,2)]\n",
        "cluster_std = [1.2, 1, 1.1]\n",
        "\n",
        "X, y= make_blobs(n_samples=200, cluster_std=cluster_std, centers=centers, n_features=2, random_state=1)\n",
        "\n",
        "plt.scatter(X[y == 0, 0], X[y == 0, 1], s=10, label=\"Cluster1\")\n",
        "plt.scatter(X[y == 1, 0], X[y == 1, 1], s=10, label=\"Cluster2\")\n",
        "plt.scatter(X[y == 2, 0], X[y == 2, 1], s=10, label=\"Cluster3\")\n",
        "plt.title(\"Scattered data\")\n",
        "plt.xlabel('X')\n",
        "plt.ylabel('Y')\n",
        "\n",
        "\n",
        "\n",
        "plt.scatter(X[:,0],X[:,1])\n",
        "\n"
      ],
      "metadata": {
        "id": "kzaVnQXIXVOq",
        "colab": {
          "base_uri": "https://localhost:8080/",
          "height": 312
        },
        "outputId": "412290db-5e70-4a6c-efb5-50d885a42c29"
      },
      "execution_count": null,
      "outputs": [
        {
          "output_type": "execute_result",
          "data": {
            "text/plain": [
              "<matplotlib.collections.PathCollection at 0x7f6cb72c52d0>"
            ]
          },
          "metadata": {},
          "execution_count": 1
        },
        {
          "output_type": "display_data",
          "data": {
            "image/png": "[encoded data removed]",
            "text/plain": [
              "<Figure size 432x288 with 1 Axes>"
            ]
          },
          "metadata": {
            "needs_background": "light"
          }
        }
      ]
    },
    {
      "cell_type": "code",
      "source": [
        "from sklearn.datasets import make_blobs\n",
        "import matplotlib.pyplot as plt\n",
        "import pandas as pd\n",
        "import numpy as np\n",
        "import random\n",
        "\n",
        "centers = [(0, 4), (5, 5) , (8,2)]\n",
        "cluster_std = [1.2, 1, 1.1]\n",
        "\n",
        "X, y= make_blobs(n_samples=200, cluster_std=cluster_std, centers=centers, n_features=2, random_state=1)\n",
        "\n",
        "plt.scatter(X[y == 0, 0], X[y == 0, 1], s=10, label=\"Cluster1\")\n",
        "plt.scatter(X[y == 1, 0], X[y == 1, 1], s=11, label=\"Cluster2\")\n",
        "plt.scatter(X[y == 2, 0], X[y == 2, 1], s=12, label=\"Cluster3\")\n",
        "plt.title(\"Scattered data\")\n",
        "plt.xlabel('X')\n",
        "plt.ylabel('Y')\n",
        "\n",
        "\n",
        "\n",
        "plt.scatter(X[:,0],X[:,1])"
      ],
      "metadata": {
        "colab": {
          "base_uri": "https://localhost:8080/",
          "height": 490
        },
        "id": "1y7PuZC1jNGK",
        "outputId": "50840ec7-7121-41eb-8bac-38d762668ddb"
      },
      "execution_count": 2,
      "outputs": [
        {
          "output_type": "execute_result",
          "data": {
            "text/plain": [
              "<matplotlib.collections.PathCollection at 0x7f7562890a90>"
            ]
          },
          "metadata": {},
          "execution_count": 2
        },
        {
          "output_type": "display_data",
          "data": {
            "text/plain": [
              "<Figure size 640x480 with 1 Axes>"
            ],
            "image/png": "[encoded data removed]"
          },
          "metadata": {}
        }
      ]
    },
    {
      "cell_type": "code",
      "source": [
        "def check_core_point(eps,minPts, df, index):\n",
        "    #get points from given index\n",
        "    x, y = df.iloc[index]['X']  ,  df.iloc[index]['Y']\n",
        "    \n",
        "    #check available points within radius\n",
        "    temp =  df[((np.abs(x - df['X']) <= eps) & (np.abs(y - df['Y']) <= eps)) & (df.index != index)]\n",
        "    \n",
        "    #check how many points are present within radius\n",
        "    if len(temp) >= minPts:\n",
        "        #return format (dataframe, is_core, is_border, is_noise)\n",
        "        return (temp.index , True, False, False)\n",
        "    \n",
        "    elif (len(temp) < minPts) and len(temp) > 0:\n",
        "        #return format (dataframe, is_core, is_border, is_noise)\n",
        "        return (temp.index , False, True, False)\n",
        "    \n",
        "    elif len(temp) == 0:\n",
        "        #return format (dataframe, is_core, is_border, is_noise)\n",
        "        return (temp.index , False, False, True)\n"
      ],
      "metadata": {
        "id": "lJ2Yo42wXhy9"
      },
      "execution_count": null,
      "outputs": []
    },
    {
      "cell_type": "code",
      "source": [
        "def cluster_with_stack(eps, minPts, df):\n",
        "    \n",
        "    #initiating cluster number\n",
        "    C = 1\n",
        "    #initiating stacks to maintain\n",
        "    current_stack = set()\n",
        "    unvisited = list(df.index)\n",
        "    clusters = []\n",
        "    \n",
        "    \n",
        "    while (len(unvisited) != 0): #run until all points have been visited\n",
        "\n",
        "        #identifier for first point of a cluster\n",
        "        first_point = True\n",
        "        \n",
        "        #choose a random unvisited point\n",
        "        current_stack.add(random.choice(unvisited))\n",
        "        \n",
        "        while len(current_stack) != 0: #run until a cluster is complete\n",
        "            \n",
        "            #pop current point from stack\n",
        "            curr_idx = current_stack.pop()\n",
        "            \n",
        "            #check if point is core, neighbour or border\n",
        "            neigh_indexes, iscore, isborder, isnoise = check_core_point(eps, minPts, df, curr_idx)\n",
        "            \n",
        "            #dealing with an edge case\n",
        "            if (isborder & first_point):\n",
        "                #for first border point, we label it aand its neighbours as noise \n",
        "                clusters.append((curr_idx, 0))\n",
        "                clusters.extend(list(zip(neigh_indexes,[0 for _ in range(len(neigh_indexes))])))\n",
        "                \n",
        "                #label as visited\n",
        "                unvisited.remove(curr_idx)\n",
        "                unvisited = [e for e in unvisited if e not in neigh_indexes]\n",
        "    \n",
        "                continue\n",
        "                \n",
        "            unvisited.remove(curr_idx) #remove point from unvisited list\n",
        "            \n",
        "            \n",
        "            neigh_indexes = set(neigh_indexes) & set(unvisited) #look at only unvisited points\n",
        "            \n",
        "            if iscore: #if current point is a core\n",
        "                first_point = False\n",
        "                \n",
        "                clusters.append((curr_idx,C)) #assign to a cluster\n",
        "                current_stack.update(neigh_indexes) #add neighbours to a stack\n",
        "\n",
        "            elif isborder: #if current point is a border point\n",
        "                clusters.append((curr_idx,C))\n",
        "                \n",
        "                continue\n",
        "\n",
        "            elif isnoise: #if current point is noise\n",
        "                clusters.append((curr_idx, 0))\n",
        "                \n",
        "                continue\n",
        "                \n",
        "        if not first_point:\n",
        "            #increment cluster number\n",
        "            C+=1\n",
        "        \n",
        "    return clusters\n",
        "            "
      ],
      "metadata": {
        "id": "xx2esF-VXiYO"
      },
      "execution_count": null,
      "outputs": []
    },
    {
      "cell_type": "code",
      "source": [
        "\n",
        "\n",
        "#radius of the circle defined as 0.6\n",
        "eps = 0.6\n",
        "#minimum neighbouring points set to 3\n",
        "minPts = 3\n",
        "\n"
      ],
      "metadata": {
        "id": "q57lIKQ4XpB2"
      },
      "execution_count": null,
      "outputs": []
    },
    {
      "cell_type": "code",
      "source": [
        "\n",
        "\n",
        "data = pd.DataFrame(X, columns = [\"X\", \"Y\"] )\n",
        "clustered = cluster_with_stack(eps, minPts, data)\n",
        "\n"
      ],
      "metadata": {
        "id": "VUSjVUheXrxx"
      },
      "execution_count": null,
      "outputs": []
    },
    {
      "cell_type": "code",
      "source": [
        "clustered"
      ],
      "metadata": {
        "id": "8cjN07yvZM9G",
        "outputId": "32ab5258-a59a-4005-d510-8cc9fa1b4886",
        "colab": {
          "base_uri": "https://localhost:8080/"
        }
      },
      "execution_count": null,
      "outputs": [
        {
          "output_type": "execute_result",
          "data": {
            "text/plain": [
              "[(171, 1),\n",
              " (100, 1),\n",
              " (5, 1),\n",
              " (8, 1),\n",
              " (136, 1),\n",
              " (139, 1),\n",
              " (140, 1),\n",
              " (142, 1),\n",
              " (89, 1),\n",
              " (155, 1),\n",
              " (91, 1),\n",
              " (158, 1),\n",
              " (37, 1),\n",
              " (42, 1),\n",
              " (177, 1),\n",
              " (49, 1),\n",
              " (181, 1),\n",
              " (182, 1),\n",
              " (55, 1),\n",
              " (56, 1),\n",
              " (183, 1),\n",
              " (58, 1),\n",
              " (61, 1),\n",
              " (68, 1),\n",
              " (197, 1),\n",
              " (70, 1),\n",
              " (72, 1),\n",
              " (74, 1),\n",
              " (76, 1),\n",
              " (79, 1),\n",
              " (87, 1),\n",
              " (95, 1),\n",
              " (106, 1),\n",
              " (112, 1),\n",
              " (113, 1),\n",
              " (116, 1),\n",
              " (117, 1),\n",
              " (121, 1),\n",
              " (124, 1),\n",
              " (127, 1),\n",
              " (129, 1),\n",
              " (2, 1),\n",
              " (130, 1),\n",
              " (134, 1),\n",
              " (11, 1),\n",
              " (12, 1),\n",
              " (14, 1),\n",
              " (16, 1),\n",
              " (18, 1),\n",
              " (19, 1),\n",
              " (31, 1),\n",
              " (166, 1),\n",
              " (39, 1),\n",
              " (41, 1),\n",
              " (175, 1),\n",
              " (176, 1),\n",
              " (179, 1),\n",
              " (54, 1),\n",
              " (187, 1),\n",
              " (66, 1),\n",
              " (198, 1),\n",
              " (71, 1),\n",
              " (80, 1),\n",
              " (82, 1),\n",
              " (92, 1),\n",
              " (114, 1),\n",
              " (122, 1),\n",
              " (1, 1),\n",
              " (131, 1),\n",
              " (4, 1),\n",
              " (147, 1),\n",
              " (86, 1),\n",
              " (30, 1),\n",
              " (159, 1),\n",
              " (163, 1),\n",
              " (164, 1),\n",
              " (44, 1),\n",
              " (172, 1),\n",
              " (52, 1),\n",
              " (180, 1),\n",
              " (59, 1),\n",
              " (62, 1),\n",
              " (63, 1),\n",
              " (190, 1),\n",
              " (191, 1),\n",
              " (194, 1),\n",
              " (69, 1),\n",
              " (199, 1),\n",
              " (75, 1),\n",
              " (90, 1),\n",
              " (94, 1),\n",
              " (97, 1),\n",
              " (108, 1),\n",
              " (109, 1),\n",
              " (110, 1),\n",
              " (111, 1),\n",
              " (118, 1),\n",
              " (3, 1),\n",
              " (6, 1),\n",
              " (135, 1),\n",
              " (9, 1),\n",
              " (15, 1),\n",
              " (152, 1),\n",
              " (27, 1),\n",
              " (28, 1),\n",
              " (32, 1),\n",
              " (161, 1),\n",
              " (36, 1),\n",
              " (46, 1),\n",
              " (53, 1),\n",
              " (184, 1),\n",
              " (186, 1),\n",
              " (81, 1),\n",
              " (103, 1),\n",
              " (34, 1),\n",
              " (35, 1),\n",
              " (169, 1),\n",
              " (168, 2),\n",
              " (173, 2),\n",
              " (178, 2),\n",
              " (185, 2),\n",
              " (195, 2),\n",
              " (85, 2),\n",
              " (88, 2),\n",
              " (102, 2),\n",
              " (104, 2),\n",
              " (115, 2),\n",
              " (119, 2),\n",
              " (120, 2),\n",
              " (0, 2),\n",
              " (128, 2),\n",
              " (133, 2),\n",
              " (137, 2),\n",
              " (13, 2),\n",
              " (143, 2),\n",
              " (144, 2),\n",
              " (145, 2),\n",
              " (149, 2),\n",
              " (21, 2),\n",
              " (23, 2),\n",
              " (24, 2),\n",
              " (151, 2),\n",
              " (26, 2),\n",
              " (154, 2),\n",
              " (153, 2),\n",
              " (157, 2),\n",
              " (93, 2),\n",
              " (160, 2),\n",
              " (165, 2),\n",
              " (101, 2),\n",
              " (167, 2),\n",
              " (105, 2),\n",
              " (45, 2),\n",
              " (51, 2),\n",
              " (123, 2),\n",
              " (188, 2),\n",
              " (125, 2),\n",
              " (192, 2),\n",
              " (193, 2),\n",
              " (67, 2),\n",
              " (196, 2),\n",
              " (10, 2),\n",
              " (141, 2),\n",
              " (78, 2),\n",
              " (83, 2),\n",
              " (84, 2),\n",
              " (150, 2),\n",
              " (96, 2),\n",
              " (107, 2),\n",
              " (43, 2),\n",
              " (57, 2),\n",
              " (64, 2),\n",
              " (7, 2),\n",
              " (99, 2),\n",
              " (138, 0),\n",
              " (25, 0),\n",
              " (20, 0),\n",
              " (22, 0),\n",
              " (186, 0),\n",
              " (60, 0),\n",
              " (98, 0),\n",
              " (162, 0),\n",
              " (198, 0),\n",
              " (156, 0),\n",
              " (73, 0),\n",
              " (17, 0),\n",
              " (148, 0),\n",
              " (170, 0),\n",
              " (174, 0),\n",
              " (40, 0),\n",
              " (43, 0),\n",
              " (126, 0),\n",
              " (25, 0),\n",
              " (48, 0),\n",
              " (146, 0),\n",
              " (99, 0),\n",
              " (33, 0),\n",
              " (29, 0),\n",
              " (77, 0),\n",
              " (1, 0),\n",
              " (189, 0),\n",
              " (47, 0),\n",
              " (132, 0),\n",
              " (7, 0),\n",
              " (65, 0),\n",
              " (38, 0),\n",
              " (50, 0)]"
            ]
          },
          "metadata": {},
          "execution_count": 6
        }
      ]
    }
  ]
}